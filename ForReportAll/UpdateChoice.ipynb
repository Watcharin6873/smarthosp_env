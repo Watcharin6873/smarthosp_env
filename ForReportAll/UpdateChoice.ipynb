{
 "cells": [
  {
   "cell_type": "code",
   "execution_count": 2,
   "metadata": {},
   "outputs": [],
   "source": [
    "import pandas as pd\n",
    "import datetime\n",
    "import pytz\n",
    "import mysql.connector"
   ]
  },
  {
   "cell_type": "code",
   "execution_count": 3,
   "metadata": {},
   "outputs": [],
   "source": [
    "\n",
    "# Establish connection\n",
    "conn = mysql.connector.connect(\n",
    "    host=\"127.0.0.1\",\n",
    "    user=\"bdh\",\n",
    "    password=\"P@ssword1234\",\n",
    "    database=\"smarthosp_quest\"\n",
    ")\n",
    "\n",
    "cursor = conn.cursor()\n"
   ]
  },
  {
   "cell_type": "code",
   "execution_count": 4,
   "metadata": {},
   "outputs": [],
   "source": [
    "update_query = \"\"\"\n",
    "UPDATE For_report_all\n",
    "SET c_check = CASE\n",
    "         WHEN (category_questId = 2 && questId = 9 && sub_questId = 70 && c_check = 'C1') THEN 'true'\n",
    "\t\t\t\t WHEN (category_questId = 2 && questId = 9 && sub_questId = 70 && c_check = 'C2') THEN 'true'\n",
    "\t\t\t\t WHEN (category_questId = 2 && questId = 9 && sub_questId = 70 && c_check IN ('C359','undefined')) THEN 'false'\n",
    "\t\t\t\t\t\t\t\t\t\n",
    "\t\t\t\t WHEN (category_questId = 2 && questId = 9 && sub_questId = 73 && c_check = 'C3') THEN 'true'\n",
    "\t\t\t\t WHEN (category_questId = 2 && questId = 9 && sub_questId = 73 && c_check = 'C4') THEN 'true'\n",
    "\t\t\t\t WHEN (category_questId = 2 && questId = 9 && sub_questId = 73 && c_check IN ('C360','undefined')) THEN 'false'\t\n",
    "\t\t\t\t\t\t\t\t\n",
    "\t\t\t\t WHEN (category_questId = 2 && questId = 9 && sub_questId = 76 && c_check = 'C5') THEN 'true'\n",
    "\t\t\t\t WHEN (category_questId = 2 && questId = 9 && sub_questId = 76 && c_check = 'C6') THEN 'true'\n",
    "\t\t\t\t WHEN (category_questId = 2 && questId = 9 && sub_questId = 76 && c_check = 'C7') THEN 'true'\n",
    "\t\t\t\t WHEN (category_questId = 2 && questId = 9 && sub_questId = 76 && c_check = 'C8') THEN 'true'\n",
    "\t\t\t\t WHEN (category_questId = 2 && questId = 9 && sub_questId = 76 && c_check IN ('C354','undefined')) THEN 'false'\t\n",
    "\t\t\t\t\t\t\t\t\n",
    "\t\t\t\t WHEN (category_questId = 2 && questId = 10 && sub_questId = 81 && c_check = 'C9') THEN 'true'\n",
    "\t\t\t\t WHEN (category_questId = 2 && questId = 10 && sub_questId = 81 && c_check = 'C10') THEN 'true'\n",
    "\t\t\t\t WHEN (category_questId = 2 && questId = 10 && sub_questId = 81 && c_check = 'C11') THEN 'true'\n",
    "\t\t\t\t WHEN (category_questId = 2 && questId = 10 && sub_questId = 81 && c_check IN ('C361','undefined')) THEN 'false'\n",
    "\t\t\t\t\n",
    "\t\t\t\t WHEN (category_questId = 2 && questId = 10 && sub_questId = 85 && c_check = 'C12') THEN 'true'\n",
    "\t\t\t\t WHEN (category_questId = 2 && questId = 10 && sub_questId = 85 && c_check = 'C13') THEN 'true'\n",
    "\t\t\t\t WHEN (category_questId = 2 && questId = 10 && sub_questId = 85 && c_check = 'C14') THEN 'true'\n",
    "\t\t\t\t WHEN (category_questId = 2 && questId = 10 && sub_questId = 85 && c_check IN ('C362','undefined')) THEN 'false'\n",
    "\t\t\t\t \n",
    "\t\t\t\t WHEN (category_questId = 2 && questId = 12 && sub_questId = 94 && c_check = 'C15') THEN 'true'\n",
    "\t\t\t\t WHEN (category_questId = 2 && questId = 12 && sub_questId = 94 && c_check = 'C16') THEN 'true'\n",
    "\t\t\t\t WHEN (category_questId = 2 && questId = 12 && sub_questId = 94 && c_check = 'C17') THEN 'true'\n",
    "\t\t\t\t WHEN (category_questId = 2 && questId = 12 && sub_questId = 94 && c_check IN ('C355','undefined')) THEN 'false'\n",
    "\t\t\t\t \n",
    "\t\t\t\t WHEN (category_questId = 2 && questId = 12 && sub_questId = 98 && c_check = 'C18') THEN 'true'\n",
    "\t\t\t\t WHEN (category_questId = 2 && questId = 12 && sub_questId = 98 && c_check = 'C19') THEN 'true'\n",
    "\t\t\t\t WHEN (category_questId = 2 && questId = 12 && sub_questId = 98 && c_check = 'C20') THEN 'true'\n",
    "\t\t\t\t WHEN (category_questId = 2 && questId = 12 && sub_questId = 98 && c_check IN ('C356','undefined')) THEN 'false'\n",
    "\t\t\t\t \n",
    "\t\t\t\t WHEN (category_questId = 2 && questId = 19 && sub_questId = 125 && c_check = 'C21') THEN 'true'\n",
    "\t\t\t\t WHEN (category_questId = 2 && questId = 19 && sub_questId = 125 && c_check = 'C22') THEN 'true'\n",
    "\t\t\t\t WHEN (category_questId = 2 && questId = 19 && sub_questId = 125 && c_check = 'C23') THEN 'true'\n",
    "\t\t\t\t WHEN (category_questId = 2 && questId = 19 && sub_questId = 125 && c_check IN ('C351','undefined')) THEN 'false'\n",
    "\t\t\t\t \n",
    "\t\t\t\t WHEN (category_questId = 2 && questId = 19 && sub_questId = 130 && c_check = 'C24') THEN 'true'\n",
    "\t\t\t\t WHEN (category_questId = 2 && questId = 19 && sub_questId = 130 && c_check = 'C25') THEN 'true'\n",
    "\t\t\t\t WHEN (category_questId = 2 && questId = 19 && sub_questId = 130 && c_check = 'C26') THEN 'true'\n",
    "\t\t\t\t WHEN (category_questId = 2 && questId = 19 && sub_questId = 130 && c_check IN ('C352','undefined')) THEN 'false'\n",
    "\t\t\t\t \n",
    "\t\t\t\t WHEN (category_questId = 3 && questId = 22 && sub_questId = 145 && c_check = 'C27') THEN 'true'\n",
    "\t\t\t\t WHEN (category_questId = 3 && questId = 22 && sub_questId = 145 && c_check = 'C28') THEN 'true'\n",
    "\t\t\t\t WHEN (category_questId = 3 && questId = 22 && sub_questId = 145 && c_check IN ('C358','undefined')) THEN 'false'\n",
    "\t\t\t\t \n",
    "\t\t\t\t WHEN (category_questId = 3 && questId = 23 && sub_questId = 150 && c_check = 'C29') THEN 'true'\n",
    "\t\t\t\t WHEN (category_questId = 3 && questId = 23 && sub_questId = 150 && c_check = 'C30') THEN 'true'\n",
    "\t\t\t\t WHEN (category_questId = 3 && questId = 23 && sub_questId = 150 && c_check = 'C31') THEN 'true'\n",
    "\t\t\t\t WHEN (category_questId = 3 && questId = 23 && sub_questId = 150 && c_check = 'C32') THEN 'true'\n",
    "\t\t\t\t WHEN (category_questId = 3 && questId = 23 && sub_questId = 150 && c_check IN ('C357','undefined')) THEN 'false'\n",
    "\t\t\t\t \n",
    "\t\t\t\t WHEN (category_questId = 3 && questId = 24 && sub_questId = 157 && c_check = 'C33') THEN 'true'\n",
    "\t\t\t\t WHEN (category_questId = 3 && questId = 24 && sub_questId = 157 && c_check = 'C34') THEN 'true'\n",
    "\t\t\t\t WHEN (category_questId = 3 && questId = 24 && sub_questId = 157 && c_check = 'C35') THEN 'true'\n",
    "\t\t\t\t WHEN (category_questId = 3 && questId = 24 && sub_questId = 157 && c_check = 'C36') THEN 'true'\n",
    "\t\t\t\t \n",
    "\t\t\t\t WHEN (category_questId = 3 && questId = 27 && sub_questId = 179 && c_check = 'C37') THEN 'true'\n",
    "\t\t\t\t WHEN (category_questId = 3 && questId = 27 && sub_questId = 179 && c_check = 'C38') THEN 'true'\n",
    "\t\t\t\t WHEN (category_questId = 3 && questId = 27 && sub_questId = 179 && c_check = 'C39') THEN 'true'\n",
    "\t\t\t\t WHEN (category_questId = 3 && questId = 27 && sub_questId = 179 && c_check IN ('C353','undefined')) THEN 'false'\n",
    "\t\t\t\t \n",
    "\t\t\t\t WHEN (category_questId = 3 && questId = 29 && sub_questId = 189 && c_check = 'C40') THEN 'true'\n",
    "\t\t\t\t WHEN (category_questId = 3 && questId = 29 && sub_questId = 189 && c_check = 'C41') THEN 'true'\n",
    "\t\t\t\t WHEN (category_questId = 3 && questId = 29 && sub_questId = 189 && c_check IN ('C350','undefined')) THEN 'false'\n",
    "\t\t\t\t \n",
    "\t\t\t\t WHEN (category_questId = 3 && questId = 30 && sub_questId = 192 && c_check = 'C42') THEN 'true'\n",
    "\t\t\t\t WHEN (category_questId = 3 && questId = 30 && sub_questId = 192 && c_check = 'C43') THEN 'true'\n",
    "\t\t\t\t WHEN (category_questId = 3 && questId = 30 && sub_questId = 192 && c_check IN ('C349','undefined')) THEN 'false'\n",
    "\t\t\t\t \n",
    "\t\t\t\t WHEN (category_questId = 3 && questId = 30 && sub_questId = 195 && c_check = 'C44') THEN 'true'\n",
    "\t\t\t\t WHEN (category_questId = 3 && questId = 30 && sub_questId = 195 && c_check = 'C45') THEN 'true'\n",
    "\t\t\t\t WHEN (category_questId = 3 && questId = 30 && sub_questId = 195 && c_check IN ('C348','undefined')) THEN 'false'\n",
    "\t\t\t\t\t\t\t\t\t \n",
    "         ELSE c_check\n",
    "       END\n",
    "\"\"\""
   ]
  },
  {
   "cell_type": "code",
   "execution_count": null,
   "metadata": {},
   "outputs": [
    {
     "name": "stdout",
     "output_type": "stream",
     "text": [
      "9655 record(s) updated\n"
     ]
    }
   ],
   "source": [
    "cursor.execute(update_query)\n",
    "conn.commit()\n",
    "\n",
    "print(f\"{cursor.rowcount} record(s) updated\")"
   ]
  },
  {
   "cell_type": "code",
   "execution_count": 6,
   "metadata": {},
   "outputs": [],
   "source": [
    "cursor.close()\n",
    "conn.close()"
   ]
  },
  {
   "cell_type": "code",
   "execution_count": null,
   "metadata": {},
   "outputs": [],
   "source": []
  }
 ],
 "metadata": {
  "kernelspec": {
   "display_name": "smarthosp_env-b6Ddh1qd",
   "language": "python",
   "name": "python3"
  },
  "language_info": {
   "codemirror_mode": {
    "name": "ipython",
    "version": 3
   },
   "file_extension": ".py",
   "mimetype": "text/x-python",
   "name": "python",
   "nbconvert_exporter": "python",
   "pygments_lexer": "ipython3",
   "version": "3.10.12"
  }
 },
 "nbformat": 4,
 "nbformat_minor": 2
}
